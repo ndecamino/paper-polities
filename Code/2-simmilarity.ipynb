{
 "cells": [
  {
   "cell_type": "markdown",
   "metadata": {},
   "source": [
    "# Preamble\n",
    "___"
   ]
  },
  {
   "cell_type": "code",
   "execution_count": 1,
   "metadata": {},
   "outputs": [],
   "source": [
    "# Import modules:\n",
    "import pandas as pd\n",
    "import numpy as np\n",
    "import os\n",
    "from pandarallel import pandarallel\n",
    "from tabulate import tabulate\n",
    "import itertools\n",
    "from tqdm import tqdm\n",
    "import swifter\n",
    "import warnings\n",
    "from sklearn.metrics.pairwise import cosine_similarity\n",
    "\n",
    "# Suppress PerformanceWarning\n",
    "warnings.filterwarnings(\"ignore\", category=pd.errors.PerformanceWarning)"
   ]
  },
  {
   "cell_type": "code",
   "execution_count": 2,
   "metadata": {},
   "outputs": [],
   "source": [
    "# Working directory:\n",
    "directorio = \"/Users/nicolasdecamino/Documents/Investigacion/Paper Polities/Replicacion Jaccard\"\n",
    "os.chdir(directorio)"
   ]
  },
  {
   "cell_type": "markdown",
   "metadata": {},
   "source": [
    "# Functions\n",
    "___"
   ]
  },
  {
   "cell_type": "code",
   "execution_count": 3,
   "metadata": {},
   "outputs": [],
   "source": []
  },
  {
   "cell_type": "code",
   "execution_count": 2,
   "metadata": {},
   "outputs": [],
   "source": [
    "def jaccard_similarity(set_1, set_2):\n",
    "    intersection_size = len(set_1.intersection(set_2))\n",
    "    union_size = len(set_1.union(set_2))\n",
    "    similarity = intersection_size / union_size if union_size != 0 else 0\n",
    "    return similarity"
   ]
  },
  {
   "cell_type": "code",
   "execution_count": 6,
   "metadata": {},
   "outputs": [],
   "source": [
    "def mean_distance(row, type):\n",
    "\n",
    "    # Obtain cultures' names:\n",
    "    culture_1, culture_2 = row['culture_1'], row['culture_2']\n",
    "    \n",
    "    # Return distance == 0 if the culture is the same:\n",
    "    if culture_1 == culture_2:\n",
    "        return 0.0\n",
    "\n",
    "    # Get descriptions (as lists of sets of words or shingles) for each culture:\n",
    "    descriptions_1, descriptions_2 = row[f'{type}_1'], row[f'{type}_2']\n",
    "\n",
    "    # Calculate the mean distance between any pair of descriptions:\n",
    "    distances = []\n",
    "    for description_1 in descriptions_1:\n",
    "        for description_2 in descriptions_2:\n",
    "            similarity = jaccard_similarity(description_1, description_2)\n",
    "            distance = 1 - similarity\n",
    "            distances.append(distance)\n",
    "\n",
    "    # Return the mean distance:\n",
    "    mean_distance = np.mean(distances)\n",
    "    return mean_distance"
   ]
  },
  {
   "cell_type": "code",
   "execution_count": 40,
   "metadata": {},
   "outputs": [],
   "source": [
    "def cultures_distances(df, type, length_filter, by_period):    \n",
    "\n",
    "    # Filter by length of the description:\n",
    "    df = df.loc[df['lem_desc_length'] > length_filter]\n",
    "\n",
    "    # Obtain culture pairs dataframe:\n",
    "    df_pairs = pairs(df, by_period=by_period)  \n",
    "    \n",
    "    # Calculate the mean distance of each culture pair:\n",
    "    pandarallel.initialize(verbose=0, progress_bar=False)\n",
    "    df_pairs['mean_distance'] = df_pairs.parallel_apply(\n",
    "                lambda row: mean_distance(row, type=type), axis=1\n",
    "        )\n",
    "\n",
    "    # Return culture pairs dataframe:\n",
    "    return df_pairs"
   ]
  },
  {
   "cell_type": "code",
   "execution_count": 8,
   "metadata": {},
   "outputs": [],
   "source": [
    "def distance_matrix(mean_distances_df):\n",
    "    \n",
    "    # If the 'period' column doesn't exist print one mean distance matrix:\n",
    "    if 'period' not in mean_distances_df.columns:\n",
    "        mean_distances_matrix = mean_distances_df.pivot(index='culture_1', columns='culture_2', values='mean_distance')\n",
    "        mean_distances_matrix = mean_distances_matrix.fillna(mean_distances_matrix.T)\n",
    "        headers = [''] + mean_distances_matrix.columns.tolist()\n",
    "        print(tabulate(mean_distances_matrix, headers=headers, floatfmt=\".4f\"))\n",
    "\n",
    "    # If the 'period' column exists print one mean distance matrix for each period:\n",
    "    else:\n",
    "        periods = mean_distances_df.period.unique().tolist()\n",
    "        for period in periods:\n",
    "            mean_distances_matrix = mean_distances_df[mean_distances_df.period == period].pivot(index='culture_1', columns='culture_2', values='mean_distance')\n",
    "            mean_distances_matrix = mean_distances_matrix.fillna(mean_distances_matrix.T)\n",
    "            headers = [''] + mean_distances_matrix.columns.tolist()\n",
    "            print(f\"Periodo: {period}\")\n",
    "            print(tabulate(mean_distances_matrix, headers=headers, floatfmt=\".4f\"))\n",
    "            print()"
   ]
  },
  {
   "cell_type": "markdown",
   "metadata": {},
   "source": [
    "# Jaccard similarity\n",
    "___"
   ]
  },
  {
   "cell_type": "code",
   "execution_count": 23,
   "metadata": {},
   "outputs": [],
   "source": [
    "# Load data:\n",
    "df = pd.read_csv('Data/base-n150/base-n150.csv', sep=';')"
   ]
  },
  {
   "cell_type": "markdown",
   "metadata": {},
   "source": [
    "## Bag of words similarity"
   ]
  },
  {
   "cell_type": "code",
   "execution_count": null,
   "metadata": {},
   "outputs": [],
   "source": []
  },
  {
   "cell_type": "markdown",
   "metadata": {},
   "source": [
    "## Shingles similarity"
   ]
  },
  {
   "cell_type": "code",
   "execution_count": null,
   "metadata": {},
   "outputs": [],
   "source": [
    "# Shingle length selection based mean description length:\n",
    "table = [['Length filter', 'Mean word length']]\n",
    "for length_filter in [0, 1, 2, 3]:\n",
    "        filtered_df = df.loc[df['lem_desc_length'] > length_filter]\n",
    "        words = filtered_df['lemmatized_description'].str.cat(sep=' ').split()\n",
    "        word_lengths = [len(word) for word in words]\n",
    "        mean_length = sum(word_lengths) / len(word_lengths) if len(word_lengths) > 0 else 0\n",
    "        table.append([length_filter, mean_length])\n",
    "print(tabulate(table, headers=\"firstrow\"))"
   ]
  },
  {
   "cell_type": "markdown",
   "metadata": {},
   "source": [
    "# Distances between cultures\n",
    "___"
   ]
  },
  {
   "cell_type": "code",
   "execution_count": 26,
   "metadata": {},
   "outputs": [],
   "source": [
    "# Transform descriptions to sets of tokens and shingles:\n",
    "df['words'] = df['lemmatized_description'].swifter.progress_bar(False).apply(\n",
    "    lambda row: set(row.split())\n",
    ")\n",
    "df['shingles'] = df['lemmatized_description'].swifter.progress_bar(False).apply(shingles)"
   ]
  },
  {
   "cell_type": "code",
   "execution_count": 41,
   "metadata": {},
   "outputs": [],
   "source": [
    "# Parameters to iterate over:\n",
    "types = ['words', 'shingles']\n",
    "length_filters = [0, 1, 2, 3]\n",
    "by_periods = [False, True]\n",
    "\n",
    "# Create dictionary of results for each combination of parameters:\n",
    "results = {}\n",
    "for type, length_filter, by_period in itertools.product(types, length_filters, by_periods):\n",
    "    results[(type, length_filter, by_period)] = None"
   ]
  },
  {
   "cell_type": "code",
   "execution_count": null,
   "metadata": {},
   "outputs": [],
   "source": [
    "# Get mean distances:\n",
    "for key in tqdm(results.keys()):\n",
    "    type, length_filter, by_period = key\n",
    "    results[key] = cultures_distances(df, type, length_filter, by_period)"
   ]
  },
  {
   "cell_type": "code",
   "execution_count": 32,
   "metadata": {},
   "outputs": [
    {
     "name": "stdout",
     "output_type": "stream",
     "text": [
      "              Cajamarca    Chancay    Chimu    Cupisnique    Moche    Nasca    Recuay    Salinar    Sican    Tiahuanaco    Vicus    Wari\n",
      "----------  -----------  ---------  -------  ------------  -------  -------  --------  ---------  -------  ------------  -------  ------\n",
      "Cajamarca        0.0000     0.8736   0.9745        0.9235   0.9702   0.9190    0.9530     0.9528   0.9782        0.8285   0.9770  0.9409\n",
      "Chancay          0.8736     0.0000   0.9426        0.9345   0.9326   0.9138    0.9180     0.9211   0.9496        0.8503   0.9377  0.8950\n",
      "Chimu            0.9745     0.9426   0.0000        0.8967   0.8732   0.9374    0.9137     0.8738   0.8454        0.9499   0.8171  0.8964\n",
      "Cupisnique       0.9235     0.9345   0.8967        0.0000   0.9101   0.9471    0.9427     0.8966   0.9065        0.9317   0.8819  0.9313\n",
      "Moche            0.9702     0.9326   0.8732        0.9101   0.0000   0.9333    0.9093     0.8897   0.8848        0.9334   0.8547  0.9000\n",
      "Nasca            0.9190     0.9138   0.9374        0.9471   0.9333   0.0000    0.9227     0.9506   0.9398        0.8911   0.9255  0.9213\n",
      "Recuay           0.9530     0.9180   0.9137        0.9427   0.9093   0.9227    0.0000     0.9276   0.9145        0.9091   0.8959  0.9090\n",
      "Salinar          0.9528     0.9211   0.8738        0.8966   0.8897   0.9506    0.9276     0.0000   0.8642        0.9161   0.8353  0.8841\n",
      "Sican            0.9782     0.9496   0.8454        0.9065   0.8848   0.9398    0.9145     0.8642   0.0000        0.9488   0.8144  0.9064\n",
      "Tiahuanaco       0.8285     0.8503   0.9499        0.9317   0.9334   0.8911    0.9091     0.9161   0.9488        0.0000   0.9374  0.8942\n",
      "Vicus            0.9770     0.9377   0.8171        0.8819   0.8547   0.9255    0.8959     0.8353   0.8144        0.9374   0.0000  0.8818\n",
      "Wari             0.9409     0.8950   0.8964        0.9313   0.9000   0.9213    0.9090     0.8841   0.9064        0.8942   0.8818  0.0000\n"
     ]
    }
   ],
   "source": [
    "distance_matrix(results['words', 0, False])"
   ]
  },
  {
   "cell_type": "code",
   "execution_count": 34,
   "metadata": {},
   "outputs": [
    {
     "name": "stdout",
     "output_type": "stream",
     "text": [
      "              Cajamarca    Chancay    Chimu    Cupisnique    Moche    Nasca    Recuay    Salinar    Sican    Tiahuanaco    Vicus    Wari\n",
      "----------  -----------  ---------  -------  ------------  -------  -------  --------  ---------  -------  ------------  -------  ------\n",
      "Cajamarca        0.0000     0.9394   0.9849        0.9798   0.9752   0.9614    0.9643     0.9626   0.9812        0.9108   0.9806  0.9576\n",
      "Chancay          0.9394     0.0000   0.9594        0.9667   0.9511   0.9369    0.9382     0.9442   0.9602        0.8928   0.9522  0.9270\n",
      "Chimu            0.9849     0.9594   0.0000        0.9301   0.9020   0.9442    0.9311     0.9151   0.8901        0.9615   0.8628  0.9246\n",
      "Cupisnique       0.9798     0.9667   0.9301        0.0000   0.9339   0.9646    0.9604     0.9356   0.9449        0.9598   0.9209  0.9548\n",
      "Moche            0.9752     0.9511   0.9020        0.9339   0.0000   0.9423    0.9291     0.9251   0.9188        0.9470   0.8879  0.9278\n",
      "Nasca            0.9614     0.9369   0.9442        0.9646   0.9423   0.0000    0.9338     0.9604   0.9492        0.9158   0.9299  0.9333\n",
      "Recuay           0.9643     0.9382   0.9311        0.9604   0.9291   0.9338    0.0000     0.9527   0.9369        0.9292   0.9144  0.9310\n",
      "Salinar          0.9626     0.9442   0.9151        0.9356   0.9251   0.9604    0.9527     0.0000   0.9085        0.9357   0.8875  0.9193\n",
      "Sican            0.9812     0.9602   0.8901        0.9449   0.9188   0.9492    0.9369     0.9085   0.0000        0.9579   0.8728  0.9308\n",
      "Tiahuanaco       0.9108     0.8928   0.9615        0.9598   0.9470   0.9158    0.9292     0.9357   0.9579        0.0000   0.9490  0.9180\n",
      "Vicus            0.9806     0.9522   0.8628        0.9209   0.8879   0.9299    0.9144     0.8875   0.8728        0.9490   0.0000  0.9102\n",
      "Wari             0.9576     0.9270   0.9246        0.9548   0.9278   0.9333    0.9310     0.9193   0.9308        0.9180   0.9102  0.0000\n"
     ]
    }
   ],
   "source": [
    "distance_matrix(results['shingles', 0, False])"
   ]
  },
  {
   "cell_type": "markdown",
   "metadata": {},
   "source": [
    "# TD-IDF similarity\n",
    "___"
   ]
  },
  {
   "cell_type": "code",
   "execution_count": null,
   "metadata": {},
   "outputs": [],
   "source": []
  },
  {
   "cell_type": "markdown",
   "metadata": {},
   "source": [
    "# BERT similarity\n",
    "___"
   ]
  },
  {
   "cell_type": "code",
   "execution_count": null,
   "metadata": {},
   "outputs": [],
   "source": [
    "# Función para calcular la similitud del coseno entre dos textos\n",
    "def calculate_similarity(text1, text2):\n",
    "    # Tokenizar y codificar los textos\n",
    "    inputs1 = tokenizer(text1, return_tensors='pt', truncation=True, max_length=512)\n",
    "    inputs2 = tokenizer(text2, return_tensors='pt', truncation=True, max_length=512)\n",
    "\n",
    "    # Obtener los embeddings de los textos\n",
    "    with torch.no_grad():\n",
    "        embeddings1 = model(**inputs1).last_hidden_state.mean(dim=1)\n",
    "        embeddings2 = model(**inputs2).last_hidden_state.mean(dim=1)\n",
    "\n",
    "    # Calcular la similitud del coseno entre los embeddings\n",
    "    similarity = cosine_similarity(embeddings1, embeddings2)\n",
    "\n",
    "    return similarity"
   ]
  },
  {
   "cell_type": "code",
   "execution_count": null,
   "metadata": {},
   "outputs": [],
   "source": [
    "def get_positive_positions(v1, v2):\n",
    "    positions = [i for i in range(len(df.embeddingCLS[0])) if v1[i] != 0.0 and v2[i] != 0.0]\n",
    "    return positions\n",
    "\n",
    "def _cosine_similarity(v1, v2):\n",
    "    positions = get_positive_positions(v1, v2)\n",
    "    if len(positions) == 0:\n",
    "        return 0\n",
    "    else:\n",
    "      dot_product = np.dot(v1, v2)\n",
    "      norm_vector1 = np.linalg.norm(v1)\n",
    "      norm_vector2 = np.linalg.norm(v2)\n",
    "\n",
    "      similarity = dot_product / (norm_vector1 * norm_vector2)\n",
    "      return similarity"
   ]
  }
 ],
 "metadata": {
  "kernelspec": {
   "display_name": "Python 3",
   "language": "python",
   "name": "python3"
  },
  "language_info": {
   "codemirror_mode": {
    "name": "ipython",
    "version": 3
   },
   "file_extension": ".py",
   "mimetype": "text/x-python",
   "name": "python",
   "nbconvert_exporter": "python",
   "pygments_lexer": "ipython3",
   "version": "3.12.1"
  }
 },
 "nbformat": 4,
 "nbformat_minor": 2
}

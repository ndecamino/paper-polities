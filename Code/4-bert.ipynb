{
 "cells": [
  {
   "cell_type": "markdown",
   "metadata": {},
   "source": [
    "# Preamble\n",
    "___"
   ]
  },
  {
   "cell_type": "code",
   "execution_count": 52,
   "metadata": {},
   "outputs": [],
   "source": [
    "import os\n",
    "import pandas as pd\n",
    "import numpy as np\n",
    "from transformers import AutoTokenizer, AutoModel\n",
    "import torch\n",
    "from sklearn.metrics.pairwise import cosine_similarity\n",
    "from pandarallel import pandarallel\n",
    "import swifter\n",
    "from tqdm import tqdm\n",
    "from torch.utils.data import DataLoader, TensorDataset\n",
    "from torch.nn.utils.rnn import pad_sequence\n",
    "from sklearn.metrics.pairwise import cosine_similarity"
   ]
  },
  {
   "cell_type": "code",
   "execution_count": 2,
   "metadata": {},
   "outputs": [],
   "source": [
    "directorio = \"/Users/nicolasdecamino/Documents/Investigacion/Paper Polities/Replicacion Jaccard\"\n",
    "os.chdir(directorio)"
   ]
  },
  {
   "cell_type": "markdown",
   "metadata": {},
   "source": [
    "# BERT tokenization\n",
    "___"
   ]
  },
  {
   "cell_type": "code",
   "execution_count": 10,
   "metadata": {},
   "outputs": [],
   "source": [
    "# Load data:\n",
    "df = pd.read_csv('Data/base-global/base-global.csv', sep=';')"
   ]
  },
  {
   "cell_type": "code",
   "execution_count": 4,
   "metadata": {},
   "outputs": [
    {
     "name": "stderr",
     "output_type": "stream",
     "text": [
      "Some weights of BertModel were not initialized from the model checkpoint at dccuchile/bert-base-spanish-wwm-uncased and are newly initialized: ['bert.pooler.dense.bias', 'bert.pooler.dense.weight']\n",
      "You should probably TRAIN this model on a down-stream task to be able to use it for predictions and inference.\n"
     ]
    }
   ],
   "source": [
    "# Load BERT model:\n",
    "model_name = 'dccuchile/bert-base-spanish-wwm-uncased'\n",
    "tokenizer = AutoTokenizer.from_pretrained(model_name)\n",
    "model = AutoModel.from_pretrained(model_name)"
   ]
  },
  {
   "cell_type": "code",
   "execution_count": 53,
   "metadata": {},
   "outputs": [],
   "source": [
    "# Get max length of the tokenized descriptions:\n",
    "def get_length(description):\n",
    "    encoded_description = tokenizer.encode(\n",
    "        description,\n",
    "        add_special_tokens=True,\n",
    "    )\n",
    "    return len(encoded_description)\n",
    "lengths = df['lemmatized_description'].swifter.progress_bar(False).apply(get_length)\n",
    "max_length = lengths.max()"
   ]
  },
  {
   "cell_type": "code",
   "execution_count": 54,
   "metadata": {},
   "outputs": [],
   "source": [
    "# Tokenize lemmatized descriptions padding to max length:\n",
    "input_ids, attention_masks = [], []\n",
    "for description in df['lemmatized_description'].tolist():\n",
    "    encoded_description = tokenizer.encode_plus(\n",
    "        description,\n",
    "        add_special_tokens=True,\n",
    "        max_length=max_length,\n",
    "        padding='max_length',\n",
    "        return_attention_mask=True,\n",
    "        return_tensors='pt'\n",
    "    )\n",
    "    input_ids.append(encoded_description['input_ids'])\n",
    "    attention_masks.append(encoded_description['attention_mask'])\n",
    "\n",
    "input_ids = torch.cat(input_ids, dim=0)\n",
    "attention_masks = torch.cat(attention_masks, dim=0)"
   ]
  },
  {
   "cell_type": "code",
   "execution_count": 55,
   "metadata": {},
   "outputs": [],
   "source": [
    "# Create DataLoader:\n",
    "dataset = TensorDataset(input_ids, attention_masks)\n",
    "data_loader = DataLoader(dataset, batch_size=16, shuffle=True)"
   ]
  },
  {
   "cell_type": "code",
   "execution_count": 47,
   "metadata": {},
   "outputs": [],
   "source": [
    "# Run model on CPU, CUDA or MPS:\n",
    "machine = 'mps'\n",
    "device = torch.device(machine)\n",
    "_ = model.to(device)\n",
    "\n",
    "# If using colab, run model on TPU:\n",
    "if machine == 'colab':\n",
    "    import torch_xla\n",
    "    import torch_xla.core.xla_model as xm\n",
    "    device = xm.xla_device()\n",
    "    _ = model.to(device)"
   ]
  },
  {
   "cell_type": "code",
   "execution_count": null,
   "metadata": {},
   "outputs": [],
   "source": [
    "model.eval()\n",
    "embeds_CLSs, embeds_mean, embeds_max_over_time = [], [], []\n",
    "for i, batch in enumerate(tqdm(data_loader)):\n",
    "    b_input_ids = batch[0].to(device)\n",
    "    b_attention_masks = batch[1].to(device)\n",
    "\n",
    "    with torch.no_grad():\n",
    "        \n",
    "        outputs = model(b_input_ids, token_type_ids=None, attention_mask=b_attention_masks)[0]\n",
    "\n",
    "        CLSs = outputs[:, 0, :]\n",
    "        means = outputs.mean(dim=1)\n",
    "        max_over_time = outputs.max(dim=1)\n",
    "\n",
    "        embeds_CLSs.append(CLSs)\n",
    "        embeds_mean.append(means)\n",
    "        embeds_max_over_time.append(max_over_time)"
   ]
  },
  {
   "cell_type": "markdown",
   "metadata": {},
   "source": [
    "# Simmilarity\n",
    "___"
   ]
  },
  {
   "cell_type": "code",
   "execution_count": null,
   "metadata": {},
   "outputs": [],
   "source": [
    "# Función para calcular la similitud del coseno entre dos textos\n",
    "def calculate_similarity(text1, text2):\n",
    "    # Tokenizar y codificar los textos\n",
    "    inputs1 = tokenizer(text1, return_tensors='pt', truncation=True, max_length=512)\n",
    "    inputs2 = tokenizer(text2, return_tensors='pt', truncation=True, max_length=512)\n",
    "\n",
    "    # Obtener los embeddings de los textos\n",
    "    with torch.no_grad():\n",
    "        embeddings1 = model(**inputs1).last_hidden_state.mean(dim=1)\n",
    "        embeddings2 = model(**inputs2).last_hidden_state.mean(dim=1)\n",
    "\n",
    "    # Calcular la similitud del coseno entre los embeddings\n",
    "    similarity = cosine_similarity(embeddings1, embeddings2)\n",
    "\n",
    "    return similarity"
   ]
  },
  {
   "cell_type": "code",
   "execution_count": null,
   "metadata": {},
   "outputs": [],
   "source": [
    "def get_positive_positions(v1, v2):\n",
    "    positions = [i for i in range(len(df.embeddingCLS[0])) if v1[i] != 0.0 and v2[i] != 0.0]\n",
    "    return positions\n",
    "\n",
    "def _cosine_similarity(v1, v2):\n",
    "    positions = get_positive_positions(v1, v2)\n",
    "    if len(positions) == 0:\n",
    "        return 0\n",
    "    else:\n",
    "      dot_product = np.dot(v1, v2)\n",
    "      norm_vector1 = np.linalg.norm(v1)\n",
    "      norm_vector2 = np.linalg.norm(v2)\n",
    "\n",
    "      similarity = dot_product / (norm_vector1 * norm_vector2)\n",
    "      return similarity"
   ]
  },
  {
   "cell_type": "markdown",
   "metadata": {},
   "source": []
  }
 ],
 "metadata": {
  "kernelspec": {
   "display_name": "Python 3",
   "language": "python",
   "name": "python3"
  },
  "language_info": {
   "codemirror_mode": {
    "name": "ipython",
    "version": 3
   },
   "file_extension": ".py",
   "mimetype": "text/x-python",
   "name": "python",
   "nbconvert_exporter": "python",
   "pygments_lexer": "ipython3",
   "version": "3.12.1"
  }
 },
 "nbformat": 4,
 "nbformat_minor": 2
}
